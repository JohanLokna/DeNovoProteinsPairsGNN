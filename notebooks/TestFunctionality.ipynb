{
  "nbformat": 4,
  "nbformat_minor": 0,
  "metadata": {
    "colab": {
      "name": "TestFunctionality.ipynb",
      "provenance": [],
      "collapsed_sections": []
    },
    "kernelspec": {
      "name": "python3",
      "display_name": "Python 3"
    }
  },
  "cells": [
    {
      "cell_type": "code",
      "metadata": {
        "colab": {
          "base_uri": "https://localhost:8080/"
        },
        "id": "CtBNNxTwYaLa",
        "outputId": "cdf53abf-8957-42b7-b9a0-e41441088106"
      },
      "source": [
        "!pip install git+https://github.com/JohanLokna/DeNovoProteinsPairsGNN.git --upgrade"
      ],
      "execution_count": 1,
      "outputs": [
        {
          "output_type": "stream",
          "text": [
            "Collecting git+https://github.com/JohanLokna/DeNovoProteinsPairsGNN.git\n",
            "  Cloning https://github.com/JohanLokna/DeNovoProteinsPairsGNN.git to /tmp/pip-req-build-xzhg7o3y\n",
            "  Running command git clone -q https://github.com/JohanLokna/DeNovoProteinsPairsGNN.git /tmp/pip-req-build-xzhg7o3y\n",
            "Requirement already satisfied, skipping upgrade: torch>=1.7.0 in /usr/local/lib/python3.7/dist-packages (from DeNovoProteinsPairsGNN==0.0.1) (1.7.1+cu101)\n",
            "Requirement already satisfied, skipping upgrade: torch-scatter in /usr/local/lib/python3.7/dist-packages (from DeNovoProteinsPairsGNN==0.0.1) (2.0.6)\n",
            "Requirement already satisfied, skipping upgrade: torch-sparse in /usr/local/lib/python3.7/dist-packages (from DeNovoProteinsPairsGNN==0.0.1) (0.6.8)\n",
            "Requirement already satisfied, skipping upgrade: torch-geometric==1.4.3 in /usr/local/lib/python3.7/dist-packages (from DeNovoProteinsPairsGNN==0.0.1) (1.4.3)\n",
            "Requirement already satisfied, skipping upgrade: numpy in /usr/local/lib/python3.7/dist-packages (from torch>=1.7.0->DeNovoProteinsPairsGNN==0.0.1) (1.19.5)\n",
            "Requirement already satisfied, skipping upgrade: typing-extensions in /usr/local/lib/python3.7/dist-packages (from torch>=1.7.0->DeNovoProteinsPairsGNN==0.0.1) (3.7.4.3)\n",
            "Requirement already satisfied, skipping upgrade: scipy in /usr/local/lib/python3.7/dist-packages (from torch-sparse->DeNovoProteinsPairsGNN==0.0.1) (1.4.1)\n",
            "Requirement already satisfied, skipping upgrade: numba in /usr/local/lib/python3.7/dist-packages (from torch-geometric==1.4.3->DeNovoProteinsPairsGNN==0.0.1) (0.51.2)\n",
            "Requirement already satisfied, skipping upgrade: requests in /usr/local/lib/python3.7/dist-packages (from torch-geometric==1.4.3->DeNovoProteinsPairsGNN==0.0.1) (2.23.0)\n",
            "Requirement already satisfied, skipping upgrade: pandas in /usr/local/lib/python3.7/dist-packages (from torch-geometric==1.4.3->DeNovoProteinsPairsGNN==0.0.1) (1.1.5)\n",
            "Requirement already satisfied, skipping upgrade: scikit-learn in /usr/local/lib/python3.7/dist-packages (from torch-geometric==1.4.3->DeNovoProteinsPairsGNN==0.0.1) (0.22.2.post1)\n",
            "Requirement already satisfied, skipping upgrade: plyfile in /usr/local/lib/python3.7/dist-packages (from torch-geometric==1.4.3->DeNovoProteinsPairsGNN==0.0.1) (0.7.3)\n",
            "Requirement already satisfied, skipping upgrade: rdflib in /usr/local/lib/python3.7/dist-packages (from torch-geometric==1.4.3->DeNovoProteinsPairsGNN==0.0.1) (5.0.0)\n",
            "Requirement already satisfied, skipping upgrade: h5py in /usr/local/lib/python3.7/dist-packages (from torch-geometric==1.4.3->DeNovoProteinsPairsGNN==0.0.1) (2.10.0)\n",
            "Requirement already satisfied, skipping upgrade: googledrivedownloader in /usr/local/lib/python3.7/dist-packages (from torch-geometric==1.4.3->DeNovoProteinsPairsGNN==0.0.1) (0.4)\n",
            "Requirement already satisfied, skipping upgrade: networkx in /usr/local/lib/python3.7/dist-packages (from torch-geometric==1.4.3->DeNovoProteinsPairsGNN==0.0.1) (2.5)\n",
            "Requirement already satisfied, skipping upgrade: scikit-image in /usr/local/lib/python3.7/dist-packages (from torch-geometric==1.4.3->DeNovoProteinsPairsGNN==0.0.1) (0.16.2)\n",
            "Requirement already satisfied, skipping upgrade: setuptools in /usr/local/lib/python3.7/dist-packages (from numba->torch-geometric==1.4.3->DeNovoProteinsPairsGNN==0.0.1) (54.0.0)\n",
            "Requirement already satisfied, skipping upgrade: llvmlite<0.35,>=0.34.0.dev0 in /usr/local/lib/python3.7/dist-packages (from numba->torch-geometric==1.4.3->DeNovoProteinsPairsGNN==0.0.1) (0.34.0)\n",
            "Requirement already satisfied, skipping upgrade: certifi>=2017.4.17 in /usr/local/lib/python3.7/dist-packages (from requests->torch-geometric==1.4.3->DeNovoProteinsPairsGNN==0.0.1) (2020.12.5)\n",
            "Requirement already satisfied, skipping upgrade: urllib3!=1.25.0,!=1.25.1,<1.26,>=1.21.1 in /usr/local/lib/python3.7/dist-packages (from requests->torch-geometric==1.4.3->DeNovoProteinsPairsGNN==0.0.1) (1.24.3)\n",
            "Requirement already satisfied, skipping upgrade: idna<3,>=2.5 in /usr/local/lib/python3.7/dist-packages (from requests->torch-geometric==1.4.3->DeNovoProteinsPairsGNN==0.0.1) (2.10)\n",
            "Requirement already satisfied, skipping upgrade: chardet<4,>=3.0.2 in /usr/local/lib/python3.7/dist-packages (from requests->torch-geometric==1.4.3->DeNovoProteinsPairsGNN==0.0.1) (3.0.4)\n",
            "Requirement already satisfied, skipping upgrade: python-dateutil>=2.7.3 in /usr/local/lib/python3.7/dist-packages (from pandas->torch-geometric==1.4.3->DeNovoProteinsPairsGNN==0.0.1) (2.8.1)\n",
            "Requirement already satisfied, skipping upgrade: pytz>=2017.2 in /usr/local/lib/python3.7/dist-packages (from pandas->torch-geometric==1.4.3->DeNovoProteinsPairsGNN==0.0.1) (2018.9)\n",
            "Requirement already satisfied, skipping upgrade: joblib>=0.11 in /usr/local/lib/python3.7/dist-packages (from scikit-learn->torch-geometric==1.4.3->DeNovoProteinsPairsGNN==0.0.1) (1.0.1)\n",
            "Requirement already satisfied, skipping upgrade: six in /usr/local/lib/python3.7/dist-packages (from rdflib->torch-geometric==1.4.3->DeNovoProteinsPairsGNN==0.0.1) (1.15.0)\n",
            "Requirement already satisfied, skipping upgrade: pyparsing in /usr/local/lib/python3.7/dist-packages (from rdflib->torch-geometric==1.4.3->DeNovoProteinsPairsGNN==0.0.1) (2.4.7)\n",
            "Requirement already satisfied, skipping upgrade: isodate in /usr/local/lib/python3.7/dist-packages (from rdflib->torch-geometric==1.4.3->DeNovoProteinsPairsGNN==0.0.1) (0.6.0)\n",
            "Requirement already satisfied, skipping upgrade: decorator>=4.3.0 in /usr/local/lib/python3.7/dist-packages (from networkx->torch-geometric==1.4.3->DeNovoProteinsPairsGNN==0.0.1) (4.4.2)\n",
            "Requirement already satisfied, skipping upgrade: imageio>=2.3.0 in /usr/local/lib/python3.7/dist-packages (from scikit-image->torch-geometric==1.4.3->DeNovoProteinsPairsGNN==0.0.1) (2.4.1)\n",
            "Requirement already satisfied, skipping upgrade: PyWavelets>=0.4.0 in /usr/local/lib/python3.7/dist-packages (from scikit-image->torch-geometric==1.4.3->DeNovoProteinsPairsGNN==0.0.1) (1.1.1)\n",
            "Requirement already satisfied, skipping upgrade: matplotlib!=3.0.0,>=2.0.0 in /usr/local/lib/python3.7/dist-packages (from scikit-image->torch-geometric==1.4.3->DeNovoProteinsPairsGNN==0.0.1) (3.2.2)\n",
            "Requirement already satisfied, skipping upgrade: pillow>=4.3.0 in /usr/local/lib/python3.7/dist-packages (from scikit-image->torch-geometric==1.4.3->DeNovoProteinsPairsGNN==0.0.1) (7.0.0)\n",
            "Requirement already satisfied, skipping upgrade: cycler>=0.10 in /usr/local/lib/python3.7/dist-packages (from matplotlib!=3.0.0,>=2.0.0->scikit-image->torch-geometric==1.4.3->DeNovoProteinsPairsGNN==0.0.1) (0.10.0)\n",
            "Requirement already satisfied, skipping upgrade: kiwisolver>=1.0.1 in /usr/local/lib/python3.7/dist-packages (from matplotlib!=3.0.0,>=2.0.0->scikit-image->torch-geometric==1.4.3->DeNovoProteinsPairsGNN==0.0.1) (1.3.1)\n",
            "Building wheels for collected packages: DeNovoProteinsPairsGNN\n",
            "  Building wheel for DeNovoProteinsPairsGNN (setup.py) ... \u001b[?25l\u001b[?25hdone\n",
            "  Created wheel for DeNovoProteinsPairsGNN: filename=DeNovoProteinsPairsGNN-0.0.1-cp37-none-any.whl size=20644 sha256=066d9673bd58938bbb4993dc41253c61ab8fda71e2861b19d94eb462d247cf5c\n",
            "  Stored in directory: /tmp/pip-ephem-wheel-cache-79zw92p8/wheels/53/f0/7f/a3bba6c99f3e23a271efe6d5b4ec0bfa667ba78e1f4c3e2e1e\n",
            "Successfully built DeNovoProteinsPairsGNN\n",
            "Installing collected packages: DeNovoProteinsPairsGNN\n",
            "  Found existing installation: DeNovoProteinsPairsGNN 0.0.1\n",
            "    Uninstalling DeNovoProteinsPairsGNN-0.0.1:\n",
            "      Successfully uninstalled DeNovoProteinsPairsGNN-0.0.1\n",
            "Successfully installed DeNovoProteinsPairsGNN-0.0.1\n"
          ],
          "name": "stdout"
        }
      ]
    },
    {
      "cell_type": "code",
      "metadata": {
        "colab": {
          "base_uri": "https://localhost:8080/"
        },
        "id": "2qY5O352cUSv",
        "outputId": "01c41402-8584-4f72-d174-ce2ba8c9cc0a"
      },
      "source": [
        "from google.colab import drive\r\n",
        "\r\n",
        "drive.mount(\"/content/gdrive\")"
      ],
      "execution_count": 2,
      "outputs": [
        {
          "output_type": "stream",
          "text": [
            "Drive already mounted at /content/gdrive; to attempt to forcibly remount, call drive.mount(\"/content/gdrive\", force_remount=True).\n"
          ],
          "name": "stdout"
        }
      ]
    },
    {
      "cell_type": "code",
      "metadata": {
        "id": "10aA74vocpaD"
      },
      "source": [
        "from ProteinPairsGenerator.models import Net\r\n",
        "import torch\r\n",
        "\r\n",
        "batch_size = 1\r\n",
        "num_features = 20\r\n",
        "adj_input_size = 2\r\n",
        "hidden_size = 128\r\n",
        "frac_present = 0.5\r\n",
        "frac_present_valid = frac_present\r\n",
        "info_size= 1024\r\n",
        "\r\n",
        "device = \"cuda\" if torch.cuda.is_available() else \"cpu\"\r\n",
        "\r\n",
        "state_file = \"/content/gdrive/My Drive/e53-s1952148-d93703104.state\"\r\n",
        "\r\n",
        "net = Net(\r\n",
        "    x_input_size=num_features + 1, adj_input_size=adj_input_size, hidden_size=hidden_size, output_size=num_features\r\n",
        ")\r\n",
        "\r\n",
        "net.load_state_dict(torch.load(state_file, map_location=device))\r\n",
        "net.eval()\r\n",
        "net = net.to(device)"
      ],
      "execution_count": 3,
      "outputs": []
    },
    {
      "cell_type": "code",
      "metadata": {
        "colab": {
          "base_uri": "https://localhost:8080/"
        },
        "id": "zyaS0buMc6Sb",
        "outputId": "7704e84e-cc5d-4f54-dc65-be410b9e2d81"
      },
      "source": [
        "import tempfile\r\n",
        "from pathlib import Path \r\n",
        "\r\n",
        "from ProteinPairsGenerator.datasets import ProteinInMemoryDataset\r\n",
        "\r\n",
        "datasets = {}\r\n",
        "\r\n",
        "DATA_ROOT = Path(tempfile.gettempdir())\r\n",
        "DATA_ROOT = Path(tempfile.gettempdir()).joinpath(\"ml_data\")\r\n",
        "DATA_ROOT.mkdir(exist_ok=True)\r\n",
        "\r\n",
        "data_file = '/content/gdrive/My Drive/part-00000-4f535e50-cdf4-4275-b6b3-a3038f24a1a9-c000.snappy.parquet'\r\n",
        "\r\n",
        "datasets[\"protein_test\"] = ProteinInMemoryDataset(\r\n",
        "    root=DATA_ROOT / \"protein_test\",\r\n",
        "    subset=\"test\",\r\n",
        "    data_url=data_file,\r\n",
        ")"
      ],
      "execution_count": 4,
      "outputs": [
        {
          "output_type": "stream",
          "text": [
            "Processing...\n"
          ],
          "name": "stdout"
        },
        {
          "output_type": "stream",
          "text": [
            "/usr/local/lib/python3.7/dist-packages/ProteinPairsGenerator/datasets/in_memory.py:134: UserWarning: The given NumPy array is not writeable, and PyTorch does not support non-writeable tensors. This means you can write to the underlying (supposedly non-writeable) NumPy array using the tensor. You may want to copy the array to protect its data or make it writeable before converting it to a tensor. This type of warning will be suppressed for the rest of this program. (Triggered internally at  /pytorch/torch/csrc/utils/tensor_numpy.cpp:141.)\n",
            "  return torch.from_numpy(data_array)\n"
          ],
          "name": "stderr"
        },
        {
          "output_type": "stream",
          "text": [
            "Done!\n"
          ],
          "name": "stdout"
        }
      ]
    },
    {
      "cell_type": "code",
      "metadata": {
        "colab": {
          "base_uri": "https://localhost:8080/"
        },
        "id": "yA092AvseC1D",
        "outputId": "1a0c3cbd-81cb-41e5-d796-812026bab194"
      },
      "source": [
        "from ProteinPairsGenerator.utils import design_protein\r\n",
        "from torch_geometric.data import DataLoader\r\n",
        "\r\n",
        "for frac_present in [0.0, 0.5, 0.8]:\r\n",
        "    results = []\r\n",
        "    for i, data in enumerate(DataLoader(datasets[\"protein_test\"], shuffle=False, num_workers=1, batch_size=1, drop_last=False)):\r\n",
        "        data.to(device)\r\n",
        "        if frac_present == 0:\r\n",
        "            is_present = torch.zeros(data.x.size(0), dtype=torch.bool, device=data.x.device)\r\n",
        "            x_in = torch.ones_like(data.x) * 20\r\n",
        "        else:\r\n",
        "            is_present = torch.rand(data.x.size(0), device=data.x.device) < frac_present\r\n",
        "            x_in = torch.where(is_present, data.x, torch.tensor(20, device=data.x.device))\r\n",
        "        x_pred = design_protein(net, x_in, data.edge_index, data.edge_attr)\r\n",
        "        identity_all = float((x_pred == data.x).sum()) / data.x.size(0)\r\n",
        "        identity_missing = float((x_pred[~is_present] == data.x[~is_present]).sum()) / (~is_present).sum().item()\r\n",
        "        result = {\r\n",
        "            \"identity_all\": identity_all,\r\n",
        "            \"identity_missing\": identity_missing,\r\n",
        "            \"num_correct\": (x_pred[~is_present] == data.x[~is_present]).sum().item(),\r\n",
        "            \"num_total\": (~is_present).sum().item(),\r\n",
        "        }\r\n",
        "        results.append(result)\r\n",
        "        print(result, '\\n\\n')"
      ],
      "execution_count": null,
      "outputs": [
        {
          "output_type": "stream",
          "text": [
            "{'identity_all': 0.31390134529147984, 'identity_missing': 0.31390134529147984, 'num_correct': 70, 'num_total': 223} \n",
            "\n",
            "\n",
            "{'identity_all': 0.46017699115044247, 'identity_missing': 0.46017699115044247, 'num_correct': 52, 'num_total': 113} \n",
            "\n",
            "\n",
            "{'identity_all': 0.38823529411764707, 'identity_missing': 0.38823529411764707, 'num_correct': 33, 'num_total': 85} \n",
            "\n",
            "\n",
            "{'identity_all': 0.27848101265822783, 'identity_missing': 0.27848101265822783, 'num_correct': 22, 'num_total': 79} \n",
            "\n",
            "\n",
            "{'identity_all': 0.1076923076923077, 'identity_missing': 0.1076923076923077, 'num_correct': 7, 'num_total': 65} \n",
            "\n",
            "\n",
            "{'identity_all': 0.28169014084507044, 'identity_missing': 0.28169014084507044, 'num_correct': 20, 'num_total': 71} \n",
            "\n",
            "\n",
            "{'identity_all': 0.43670886075949367, 'identity_missing': 0.43670886075949367, 'num_correct': 69, 'num_total': 158} \n",
            "\n",
            "\n",
            "{'identity_all': 0.35789473684210527, 'identity_missing': 0.35789473684210527, 'num_correct': 34, 'num_total': 95} \n",
            "\n",
            "\n",
            "{'identity_all': 0.0576271186440678, 'identity_missing': 0.0576271186440678, 'num_correct': 17, 'num_total': 295} \n",
            "\n",
            "\n",
            "{'identity_all': 0.048484848484848485, 'identity_missing': 0.048484848484848485, 'num_correct': 8, 'num_total': 165} \n",
            "\n",
            "\n",
            "{'identity_all': 0.2871287128712871, 'identity_missing': 0.2871287128712871, 'num_correct': 29, 'num_total': 101} \n",
            "\n",
            "\n",
            "{'identity_all': 0.3465346534653465, 'identity_missing': 0.3465346534653465, 'num_correct': 35, 'num_total': 101} \n",
            "\n",
            "\n",
            "{'identity_all': 0.08974358974358974, 'identity_missing': 0.08974358974358974, 'num_correct': 7, 'num_total': 78} \n",
            "\n",
            "\n",
            "{'identity_all': 0.39751552795031053, 'identity_missing': 0.39751552795031053, 'num_correct': 64, 'num_total': 161} \n",
            "\n",
            "\n",
            "{'identity_all': 0.3013698630136986, 'identity_missing': 0.3013698630136986, 'num_correct': 22, 'num_total': 73} \n",
            "\n",
            "\n",
            "{'identity_all': 0.07042253521126761, 'identity_missing': 0.07042253521126761, 'num_correct': 15, 'num_total': 213} \n",
            "\n",
            "\n",
            "{'identity_all': 0.045112781954887216, 'identity_missing': 0.045112781954887216, 'num_correct': 6, 'num_total': 133} \n",
            "\n",
            "\n",
            "{'identity_all': 0.34814814814814815, 'identity_missing': 0.34814814814814815, 'num_correct': 47, 'num_total': 135} \n",
            "\n",
            "\n",
            "{'identity_all': 0.22857142857142856, 'identity_missing': 0.22857142857142856, 'num_correct': 24, 'num_total': 105} \n",
            "\n",
            "\n",
            "{'identity_all': 0.4666666666666667, 'identity_missing': 0.4666666666666667, 'num_correct': 56, 'num_total': 120} \n",
            "\n",
            "\n",
            "{'identity_all': 0.28703703703703703, 'identity_missing': 0.28703703703703703, 'num_correct': 31, 'num_total': 108} \n",
            "\n",
            "\n",
            "{'identity_all': 0.3805309734513274, 'identity_missing': 0.3805309734513274, 'num_correct': 43, 'num_total': 113} \n",
            "\n",
            "\n",
            "{'identity_all': 0.35064935064935066, 'identity_missing': 0.35064935064935066, 'num_correct': 27, 'num_total': 77} \n",
            "\n",
            "\n",
            "{'identity_all': 0.344, 'identity_missing': 0.344, 'num_correct': 86, 'num_total': 250} \n",
            "\n",
            "\n",
            "{'identity_all': 0.1506849315068493, 'identity_missing': 0.1506849315068493, 'num_correct': 11, 'num_total': 73} \n",
            "\n",
            "\n",
            "{'identity_all': 0.21875, 'identity_missing': 0.21875, 'num_correct': 14, 'num_total': 64} \n",
            "\n",
            "\n",
            "{'identity_all': 0.1375, 'identity_missing': 0.1375, 'num_correct': 11, 'num_total': 80} \n",
            "\n",
            "\n",
            "{'identity_all': 0.045112781954887216, 'identity_missing': 0.045112781954887216, 'num_correct': 6, 'num_total': 133} \n",
            "\n",
            "\n",
            "{'identity_all': 0.12077294685990338, 'identity_missing': 0.12077294685990338, 'num_correct': 25, 'num_total': 207} \n",
            "\n",
            "\n"
          ],
          "name": "stdout"
        }
      ]
    },
    {
      "cell_type": "code",
      "metadata": {
        "id": "3S2CAMO5f0aZ"
      },
      "source": [
        ""
      ],
      "execution_count": null,
      "outputs": []
    }
  ]
}